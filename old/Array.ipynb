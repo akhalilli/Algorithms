{
 "cells": [
  {
   "cell_type": "markdown",
   "metadata": {},
   "source": [
    "# Array Problems"
   ]
  },
  {
   "cell_type": "markdown",
   "metadata": {},
   "source": [
    "## Array Rotations"
   ]
  },
  {
   "cell_type": "markdown",
   "metadata": {},
   "source": [
    "### 1. Write a function rotate(ar[], d, n) that rotates arr[] of size n by d elements.\n",
    "<img src=\"https://cdncontribute.geeksforgeeks.org/wp-content/uploads/simplearray.png\">\n",
    "Rotation of the above array by 2 will make array\n",
    "<img src=\"https://cdncontribute.geeksforgeeks.org/wp-content/uploads/arrayRotation.png\">\n",
    "\n",
    "**Method-1 [Using temp array]**\n",
    "\n",
    "**Time Complexity:** O(n) <br>\n",
    "**Auxiliary Space:** O(d)\n",
    "\n",
    "Input arr[] = [1, 2, 3, 4, 5, 6, 7], d = 2, n =7<br>\n",
    "1. Store d elements in a temp array<br>\n",
    "   temp[] = [1, 2]<br>\n",
    "2. Shift rest of the arr[]<br>\n",
    "   arr[] = [3, 4, 5, 6, 7, 6, 7]<br>\n",
    "3. Store back the d elements<br>\n",
    "   arr[] = [3, 4, 5, 6, 7, 1, 2]"
   ]
  },
  {
   "cell_type": "code",
   "execution_count": 17,
   "metadata": {},
   "outputs": [
    {
     "data": {
      "text/plain": [
       "[3, 4, 5, 1, 2]"
      ]
     },
     "execution_count": 17,
     "metadata": {},
     "output_type": "execute_result"
    }
   ],
   "source": [
    "arr = [1, 2, 3, 4, 5]\n",
    "\n",
    "\n",
    "def rotateArr(arr, d):\n",
    "    temp = arr[:d]\n",
    "    n = len(arr)\n",
    "    for i in range(n - d):\n",
    "        arr[i] = arr[i + d]\n",
    "    for i in range(d):\n",
    "        arr[n - d + i] = temp[i]\n",
    "    return arr\n",
    "\n",
    "rotateArr(arr, 2)"
   ]
  },
  {
   "cell_type": "markdown",
   "metadata": {},
   "source": [
    "**Method-2 (Rotate One By One)**<br>\n",
    "\n",
    "**Time Complexity:** O(n\\*d) <br>\n",
    "**Auxiliary Space:** O(1)<br>\n",
    "\n",
    "leftRotate(arr[], d, n)<br>\n",
    "start<br>\n",
    "&nbsp;&nbsp;For i = 0 to i < d<br>\n",
    "&nbsp;&nbsp;&nbsp;&nbsp;Left rotate all elements of arr[] by one<br>\n",
    "end\n",
    "\n",
    "To rotate by one, store arr[0] in a temporary variable temp, move arr[1] to arr[0], arr[2] to arr[1] …and finally temp to arr[n-1]\n",
    "\n",
    "Let us take the same example arr[] = [1, 2, 3, 4, 5, 6, 7], d = 2\n",
    "Rotate arr[] by one 2 times\n",
    "We get [2, 3, 4, 5, 6, 7, 1] after first rotation and [ 3, 4, 5, 6, 7, 1, 2] after second rotation."
   ]
  },
  {
   "cell_type": "code",
   "execution_count": 8,
   "metadata": {},
   "outputs": [
    {
     "data": {
      "text/plain": [
       "[3, 4, 1, 2]"
      ]
     },
     "execution_count": 8,
     "metadata": {},
     "output_type": "execute_result"
    }
   ],
   "source": [
    "def rotateOneByOneLeft(arr, n):\n",
    "    temp = arr[0]\n",
    "    for i in range(n - 1):\n",
    "        arr[i] = arr[i + 1]\n",
    "    arr[n - 1] = temp\n",
    "\n",
    "\n",
    "def rotateOneByOneRight(arr, n):\n",
    "    temp = arr[n-1]\n",
    "    for i in range(n-1, 0, -1):\n",
    "        arr[i] = arr[i-1]\n",
    "    arr[0] = temp\n",
    "\n",
    "\n",
    "def rotateArr(arr, d):\n",
    "    n = len(arr)\n",
    "    for i in range(d):\n",
    "        rotateOneByOneRight(arr, n)\n",
    "    return arr\n",
    "\n",
    "\n",
    "arr = [1, 2, 3, 4]\n",
    "rotateArr(arr, 2)"
   ]
  },
  {
   "cell_type": "markdown",
   "metadata": {},
   "source": [
    "**METHOD 3 (A Juggling Algorithm)**<br>\n",
    "This is an extension of method 2. Instead of moving one by one, ***divide the array in different sets\n",
    "where number of sets is equal to GCD of n and d and move the elements within sets.***\n",
    "If GCD is 1 as is for the above example array (n = 7 and d =2), then elements will be moved within one set only, we just start with temp = arr[0] and keep moving arr[I+d] to arr[I] and finally store temp at the right place."
   ]
  },
  {
   "cell_type": "markdown",
   "metadata": {},
   "source": [
    "Let arr[] be {1, 2, 3, 4, 5, 6, 7, 8, 9, 10, 11, 12}\n",
    "\n",
    "a)    Elements are first moved in first set – (See below diagram for this movement)\n",
    "\n",
    "<img src=\"https://cdncontribute.geeksforgeeks.org/wp-content/uploads/arra.jpg\"></img>\n",
    "          arr[] after this step --> {4 2 3 7 5 6 10 8 9 **1** 11 12}\n",
    "\n",
    "b)    Then in second set.\n",
    "          arr[] after this step --> {4 5 3 7 8 6 10 11 9 **1 2** 12}\n",
    "\n",
    "c)    Finally in third set.\n",
    "          arr[] after this step --> {4 5 6 7 8 9 10 11 12 **1 2 3**}"
   ]
  },
  {
   "cell_type": "code",
   "execution_count": 66,
   "metadata": {},
   "outputs": [],
   "source": [
    "gcd = lambda a, b: a if b == 0 else gcd(b, a % b)"
   ]
  },
  {
   "cell_type": "code",
   "execution_count": 67,
   "metadata": {},
   "outputs": [
    {
     "data": {
      "text/plain": [
       "3"
      ]
     },
     "execution_count": 67,
     "metadata": {},
     "output_type": "execute_result"
    }
   ],
   "source": [
    "gcd(6, 3)"
   ]
  },
  {
   "cell_type": "code",
   "execution_count": 71,
   "metadata": {},
   "outputs": [],
   "source": [
    "def rotateArrX(arr, d):\n",
    "    n = len(arr)\n",
    "    k = gcd(n, d)\n",
    "    for i in range(k):\n",
    "        t = k\n",
    "        temp = arr[i]\n",
    "        while True:\n",
    "            z = t + d\n",
    "            if z >= n:\n",
    "                z = z - n\n",
    "                break\n",
    "        arr[z] = temp\n",
    "    return arr"
   ]
  },
  {
   "cell_type": "code",
   "execution_count": 72,
   "metadata": {},
   "outputs": [
    {
     "ename": "KeyboardInterrupt",
     "evalue": "",
     "output_type": "error",
     "traceback": [
      "\u001b[1;31m---------------------------------------------------------------------------\u001b[0m",
      "\u001b[1;31mKeyboardInterrupt\u001b[0m                         Traceback (most recent call last)",
      "\u001b[1;32m<ipython-input-72-41575f10f99e>\u001b[0m in \u001b[0;36m<module>\u001b[1;34m()\u001b[0m\n\u001b[1;32m----> 1\u001b[1;33m \u001b[0mrotateArrX\u001b[0m\u001b[1;33m(\u001b[0m\u001b[1;33m[\u001b[0m\u001b[1;36m1\u001b[0m\u001b[1;33m,\u001b[0m \u001b[1;36m2\u001b[0m\u001b[1;33m,\u001b[0m \u001b[1;36m3\u001b[0m\u001b[1;33m,\u001b[0m \u001b[1;36m4\u001b[0m\u001b[1;33m,\u001b[0m \u001b[1;36m5\u001b[0m\u001b[1;33m]\u001b[0m\u001b[1;33m,\u001b[0m \u001b[1;36m3\u001b[0m\u001b[1;33m)\u001b[0m\u001b[1;33m\u001b[0m\u001b[0m\n\u001b[0m",
      "\u001b[1;32m<ipython-input-71-5c09f1a928bd>\u001b[0m in \u001b[0;36mrotateArrX\u001b[1;34m(arr, d)\u001b[0m\n\u001b[0;32m      6\u001b[0m         \u001b[0mtemp\u001b[0m \u001b[1;33m=\u001b[0m \u001b[0marr\u001b[0m\u001b[1;33m[\u001b[0m\u001b[0mi\u001b[0m\u001b[1;33m]\u001b[0m\u001b[1;33m\u001b[0m\u001b[0m\n\u001b[0;32m      7\u001b[0m         \u001b[1;32mwhile\u001b[0m \u001b[1;32mTrue\u001b[0m\u001b[1;33m:\u001b[0m\u001b[1;33m\u001b[0m\u001b[0m\n\u001b[1;32m----> 8\u001b[1;33m             \u001b[0mz\u001b[0m \u001b[1;33m=\u001b[0m \u001b[0mt\u001b[0m \u001b[1;33m+\u001b[0m \u001b[0md\u001b[0m\u001b[1;33m\u001b[0m\u001b[0m\n\u001b[0m\u001b[0;32m      9\u001b[0m             \u001b[1;32mif\u001b[0m \u001b[0mz\u001b[0m \u001b[1;33m>=\u001b[0m \u001b[0mn\u001b[0m\u001b[1;33m:\u001b[0m\u001b[1;33m\u001b[0m\u001b[0m\n\u001b[0;32m     10\u001b[0m                 \u001b[0marr\u001b[0m\u001b[1;33m[\u001b[0m\u001b[0mi\u001b[0m\u001b[1;33m]\u001b[0m \u001b[1;33m=\u001b[0m \u001b[0marr\u001b[0m\u001b[1;33m[\u001b[0m\u001b[0mz\u001b[0m\u001b[1;33m]\u001b[0m\u001b[1;33m\u001b[0m\u001b[0m\n",
      "\u001b[1;31mKeyboardInterrupt\u001b[0m: "
     ]
    }
   ],
   "source": [
    "rotateArrX([1, 2, 3, 4, 5], 3)"
   ]
  },
  {
   "cell_type": "code",
   "execution_count": null,
   "metadata": {},
   "outputs": [],
   "source": []
  },
  {
   "cell_type": "code",
   "execution_count": null,
   "metadata": {},
   "outputs": [],
   "source": []
  }
 ],
 "metadata": {
  "kernelspec": {
   "display_name": "Python 3",
   "language": "python",
   "name": "python3"
  },
  "language_info": {
   "codemirror_mode": {
    "name": "ipython",
    "version": 3
   },
   "file_extension": ".py",
   "mimetype": "text/x-python",
   "name": "python",
   "nbconvert_exporter": "python",
   "pygments_lexer": "ipython3",
   "version": "3.6.5"
  }
 },
 "nbformat": 4,
 "nbformat_minor": 2
}
